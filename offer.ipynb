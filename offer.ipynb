{
  "nbformat": 4,
  "nbformat_minor": 0,
  "metadata": {
    "colab": {
      "name": "Untitled51.ipynb",
      "provenance": []
    },
    "kernelspec": {
      "name": "python3",
      "display_name": "Python 3"
    }
  },
  "cells": [
    {
      "cell_type": "code",
      "metadata": {
        "colab": {
          "base_uri": "https://localhost:8080/"
        },
        "id": "G024gPlClGQe",
        "outputId": "e6ce319a-f5bb-47ce-fd1b-1cf421cb675a"
      },
      "source": [
        "!pip install apyori"
      ],
      "execution_count": 1,
      "outputs": [
        {
          "output_type": "stream",
          "text": [
            "Collecting apyori\n",
            "  Downloading https://files.pythonhosted.org/packages/5e/62/5ffde5c473ea4b033490617ec5caa80d59804875ad3c3c57c0976533a21a/apyori-1.1.2.tar.gz\n",
            "Building wheels for collected packages: apyori\n",
            "  Building wheel for apyori (setup.py) ... \u001b[?25l\u001b[?25hdone\n",
            "  Created wheel for apyori: filename=apyori-1.1.2-cp36-none-any.whl size=5975 sha256=7e5abf195007c0a801e994dfd415ac684f1d9a432854491369110ce7354205fa\n",
            "  Stored in directory: /root/.cache/pip/wheels/5d/92/bb/474bbadbc8c0062b9eb168f69982a0443263f8ab1711a8cad0\n",
            "Successfully built apyori\n",
            "Installing collected packages: apyori\n",
            "Successfully installed apyori-1.1.2\n"
          ],
          "name": "stdout"
        }
      ]
    },
    {
      "cell_type": "code",
      "metadata": {
        "id": "YkC_9l_ylIqp"
      },
      "source": [
        "import numpy as np\n",
        "import matplotlib.pyplot as plt\n",
        "import pandas as pd"
      ],
      "execution_count": 46,
      "outputs": []
    },
    {
      "cell_type": "code",
      "metadata": {
        "id": "rpxfA2ihlKlS"
      },
      "source": [
        "\n",
        "dataset = pd.read_csv('groceries.csv', header = None)\n",
        "dataset=dataset.drop(columns=[0])\n",
        "dataset=dataset.drop(dataset.index[0])\n",
        "transactions = []\n",
        "for i in range(1, 9835):\n",
        "  transactions.append([str(dataset.values[i,j]) for j in range(0, 32)])"
      ],
      "execution_count": 47,
      "outputs": []
    },
    {
      "cell_type": "code",
      "metadata": {
        "id": "zCPFRduXlQq-"
      },
      "source": [
        "from apyori import apriori\n",
        "rules = apriori(transactions = transactions, min_support = 0.003, min_confidence = 0.2, min_lift = 3, min_length = 2, max_length = 2)"
      ],
      "execution_count": 48,
      "outputs": []
    },
    {
      "cell_type": "code",
      "metadata": {
        "id": "3qBNaBqelS2D"
      },
      "source": [
        "res = list(rules)"
      ],
      "execution_count": 49,
      "outputs": []
    },
    {
      "cell_type": "code",
      "metadata": {
        "colab": {
          "base_uri": "https://localhost:8080/"
        },
        "id": "Yy1ipajPlV2L",
        "outputId": "705d96a4-8919-4871-b29b-264511284d16"
      },
      "source": [
        "res"
      ],
      "execution_count": 50,
      "outputs": [
        {
          "output_type": "execute_result",
          "data": {
            "text/plain": [
              "[RelationRecord(items=frozenset({'hamburger meat', 'Instant food products'}), support=0.003050640634533252, ordered_statistics=[OrderedStatistic(items_base=frozenset({'Instant food products'}), items_add=frozenset({'hamburger meat'}), confidence=0.37974683544303794, lift=11.420276390663105)]),\n",
              " RelationRecord(items=frozenset({'whipped/sour cream', 'baking powder'}), support=0.004575960951799878, ordered_statistics=[OrderedStatistic(items_base=frozenset({'baking powder'}), items_add=frozenset({'whipped/sour cream'}), confidence=0.25862068965517243, lift=3.607483492296405)]),\n",
              " RelationRecord(items=frozenset({'beef', 'root vegetables'}), support=0.017388651616839536, ordered_statistics=[OrderedStatistic(items_base=frozenset({'beef'}), items_add=frozenset({'root vegetables'}), confidence=0.3313953488372093, lift=3.0400577056577576)]),\n",
              " RelationRecord(items=frozenset({'whipped/sour cream', 'berries'}), support=0.009050233882448647, ordered_statistics=[OrderedStatistic(items_base=frozenset({'berries'}), items_add=frozenset({'whipped/sour cream'}), confidence=0.27217125382262997, lift=3.796499446938643)]),\n",
              " RelationRecord(items=frozenset({'liquor', 'bottled beer'}), support=0.004677648972950987, ordered_statistics=[OrderedStatistic(items_base=frozenset({'liquor'}), items_add=frozenset({'bottled beer'}), confidence=0.42201834862385323, lift=5.2400611620795114)]),\n",
              " RelationRecord(items=frozenset({'red/blush wine', 'bottled beer'}), support=0.004881025015253203, ordered_statistics=[OrderedStatistic(items_base=frozenset({'red/blush wine'}), items_add=frozenset({'bottled beer'}), confidence=0.25396825396825395, lift=3.1534391534391535)]),\n",
              " RelationRecord(items=frozenset({'margarine', 'flour'}), support=0.0037624567825910106, ordered_statistics=[OrderedStatistic(items_base=frozenset({'flour'}), items_add=frozenset({'margarine'}), confidence=0.21637426900584794, lift=3.7005644546147978)]),\n",
              " RelationRecord(items=frozenset({'sugar', 'flour'}), support=0.004982713036404312, ordered_statistics=[OrderedStatistic(items_base=frozenset({'flour'}), items_add=frozenset({'sugar'}), confidence=0.28654970760233917, lift=8.462251725409619)]),\n",
              " RelationRecord(items=frozenset({'whipped/sour cream', 'flour'}), support=0.004067520846044336, ordered_statistics=[OrderedStatistic(items_base=frozenset({'flour'}), items_add=frozenset({'whipped/sour cream'}), confidence=0.23391812865497078, lift=3.2629090456638052)]),\n",
              " RelationRecord(items=frozenset({'herbs', 'root vegetables'}), support=0.007016473459426479, ordered_statistics=[OrderedStatistic(items_base=frozenset({'herbs'}), items_add=frozenset({'root vegetables'}), confidence=0.43124999999999997, lift=3.9560750932835815)]),\n",
              " RelationRecord(items=frozenset({'white bread', 'processed cheese'}), support=0.0041692088671954446, ordered_statistics=[OrderedStatistic(items_base=frozenset({'processed cheese'}), items_add=frozenset({'white bread'}), confidence=0.25153374233128833, lift=5.97483773450698)]),\n",
              " RelationRecord(items=frozenset({'rice', 'root vegetables'}), support=0.0031523286556843604, ordered_statistics=[OrderedStatistic(items_base=frozenset({'rice'}), items_add=frozenset({'root vegetables'}), confidence=0.41333333333333333, lift=3.7917164179104477)]),\n",
              " RelationRecord(items=frozenset({'sausage', 'sliced cheese'}), support=0.007016473459426479, ordered_statistics=[OrderedStatistic(items_base=frozenset({'sliced cheese'}), items_add=frozenset({'sausage'}), confidence=0.2863070539419087, lift=3.0471250740960283)])]"
            ]
          },
          "metadata": {
            "tags": []
          },
          "execution_count": 50
        }
      ]
    },
    {
      "cell_type": "code",
      "metadata": {
        "colab": {
          "base_uri": "https://localhost:8080/",
          "height": 347
        },
        "id": "8EJ6YvbtlY9l",
        "outputId": "9eb6a631-a369-425b-b6d7-d6f6538b463e"
      },
      "source": [
        "def inspect(results):\n",
        "    lhs         = [tuple(result[2][0][0])[0] for result in results]\n",
        "    rhs         = [tuple(result[2][0][1])[0] for result in results]\n",
        "    supports    = [result[1] for result in results]\n",
        "    confidences = [result[2][0][2] for result in results]\n",
        "    lifts       = [result[2][0][3] for result in results]\n",
        "    return list(zip(lhs, rhs, supports, confidences, lifts))\n",
        "DF = pd.DataFrame(inspect(results), columns = ['Item1', 'Item2', 'Support', 'Confidence', 'Lift'])\n",
        "DF.style.set_caption('Offers available for the items in a grocery store using Apriori (Associate Rule Learning)')"
      ],
      "execution_count": 51,
      "outputs": [
        {
          "output_type": "execute_result",
          "data": {
            "text/html": [
              "<style  type=\"text/css\" >\n",
              "</style><table id=\"T_37f0ef58_2c17_11eb_9591_0242ac1c0002\" ><caption>Offers available for the items in a grocery store using Apriori (Associate Rule Learning)</caption><thead>    <tr>        <th class=\"blank level0\" ></th>        <th class=\"col_heading level0 col0\" >Item1</th>        <th class=\"col_heading level0 col1\" >Item2</th>        <th class=\"col_heading level0 col2\" >Support</th>        <th class=\"col_heading level0 col3\" >Confidence</th>        <th class=\"col_heading level0 col4\" >Lift</th>    </tr></thead><tbody>\n",
              "                <tr>\n",
              "                        <th id=\"T_37f0ef58_2c17_11eb_9591_0242ac1c0002level0_row0\" class=\"row_heading level0 row0\" >0</th>\n",
              "                        <td id=\"T_37f0ef58_2c17_11eb_9591_0242ac1c0002row0_col0\" class=\"data row0 col0\" >Instant food products</td>\n",
              "                        <td id=\"T_37f0ef58_2c17_11eb_9591_0242ac1c0002row0_col1\" class=\"data row0 col1\" >hamburger meat</td>\n",
              "                        <td id=\"T_37f0ef58_2c17_11eb_9591_0242ac1c0002row0_col2\" class=\"data row0 col2\" >0.003051</td>\n",
              "                        <td id=\"T_37f0ef58_2c17_11eb_9591_0242ac1c0002row0_col3\" class=\"data row0 col3\" >0.379747</td>\n",
              "                        <td id=\"T_37f0ef58_2c17_11eb_9591_0242ac1c0002row0_col4\" class=\"data row0 col4\" >11.420276</td>\n",
              "            </tr>\n",
              "            <tr>\n",
              "                        <th id=\"T_37f0ef58_2c17_11eb_9591_0242ac1c0002level0_row1\" class=\"row_heading level0 row1\" >1</th>\n",
              "                        <td id=\"T_37f0ef58_2c17_11eb_9591_0242ac1c0002row1_col0\" class=\"data row1 col0\" >baking powder</td>\n",
              "                        <td id=\"T_37f0ef58_2c17_11eb_9591_0242ac1c0002row1_col1\" class=\"data row1 col1\" >whipped/sour cream</td>\n",
              "                        <td id=\"T_37f0ef58_2c17_11eb_9591_0242ac1c0002row1_col2\" class=\"data row1 col2\" >0.004576</td>\n",
              "                        <td id=\"T_37f0ef58_2c17_11eb_9591_0242ac1c0002row1_col3\" class=\"data row1 col3\" >0.258621</td>\n",
              "                        <td id=\"T_37f0ef58_2c17_11eb_9591_0242ac1c0002row1_col4\" class=\"data row1 col4\" >3.607483</td>\n",
              "            </tr>\n",
              "            <tr>\n",
              "                        <th id=\"T_37f0ef58_2c17_11eb_9591_0242ac1c0002level0_row2\" class=\"row_heading level0 row2\" >2</th>\n",
              "                        <td id=\"T_37f0ef58_2c17_11eb_9591_0242ac1c0002row2_col0\" class=\"data row2 col0\" >beef</td>\n",
              "                        <td id=\"T_37f0ef58_2c17_11eb_9591_0242ac1c0002row2_col1\" class=\"data row2 col1\" >root vegetables</td>\n",
              "                        <td id=\"T_37f0ef58_2c17_11eb_9591_0242ac1c0002row2_col2\" class=\"data row2 col2\" >0.017389</td>\n",
              "                        <td id=\"T_37f0ef58_2c17_11eb_9591_0242ac1c0002row2_col3\" class=\"data row2 col3\" >0.331395</td>\n",
              "                        <td id=\"T_37f0ef58_2c17_11eb_9591_0242ac1c0002row2_col4\" class=\"data row2 col4\" >3.040058</td>\n",
              "            </tr>\n",
              "            <tr>\n",
              "                        <th id=\"T_37f0ef58_2c17_11eb_9591_0242ac1c0002level0_row3\" class=\"row_heading level0 row3\" >3</th>\n",
              "                        <td id=\"T_37f0ef58_2c17_11eb_9591_0242ac1c0002row3_col0\" class=\"data row3 col0\" >berries</td>\n",
              "                        <td id=\"T_37f0ef58_2c17_11eb_9591_0242ac1c0002row3_col1\" class=\"data row3 col1\" >whipped/sour cream</td>\n",
              "                        <td id=\"T_37f0ef58_2c17_11eb_9591_0242ac1c0002row3_col2\" class=\"data row3 col2\" >0.009050</td>\n",
              "                        <td id=\"T_37f0ef58_2c17_11eb_9591_0242ac1c0002row3_col3\" class=\"data row3 col3\" >0.272171</td>\n",
              "                        <td id=\"T_37f0ef58_2c17_11eb_9591_0242ac1c0002row3_col4\" class=\"data row3 col4\" >3.796499</td>\n",
              "            </tr>\n",
              "            <tr>\n",
              "                        <th id=\"T_37f0ef58_2c17_11eb_9591_0242ac1c0002level0_row4\" class=\"row_heading level0 row4\" >4</th>\n",
              "                        <td id=\"T_37f0ef58_2c17_11eb_9591_0242ac1c0002row4_col0\" class=\"data row4 col0\" >liquor</td>\n",
              "                        <td id=\"T_37f0ef58_2c17_11eb_9591_0242ac1c0002row4_col1\" class=\"data row4 col1\" >bottled beer</td>\n",
              "                        <td id=\"T_37f0ef58_2c17_11eb_9591_0242ac1c0002row4_col2\" class=\"data row4 col2\" >0.004678</td>\n",
              "                        <td id=\"T_37f0ef58_2c17_11eb_9591_0242ac1c0002row4_col3\" class=\"data row4 col3\" >0.422018</td>\n",
              "                        <td id=\"T_37f0ef58_2c17_11eb_9591_0242ac1c0002row4_col4\" class=\"data row4 col4\" >5.240061</td>\n",
              "            </tr>\n",
              "            <tr>\n",
              "                        <th id=\"T_37f0ef58_2c17_11eb_9591_0242ac1c0002level0_row5\" class=\"row_heading level0 row5\" >5</th>\n",
              "                        <td id=\"T_37f0ef58_2c17_11eb_9591_0242ac1c0002row5_col0\" class=\"data row5 col0\" >red/blush wine</td>\n",
              "                        <td id=\"T_37f0ef58_2c17_11eb_9591_0242ac1c0002row5_col1\" class=\"data row5 col1\" >bottled beer</td>\n",
              "                        <td id=\"T_37f0ef58_2c17_11eb_9591_0242ac1c0002row5_col2\" class=\"data row5 col2\" >0.004881</td>\n",
              "                        <td id=\"T_37f0ef58_2c17_11eb_9591_0242ac1c0002row5_col3\" class=\"data row5 col3\" >0.253968</td>\n",
              "                        <td id=\"T_37f0ef58_2c17_11eb_9591_0242ac1c0002row5_col4\" class=\"data row5 col4\" >3.153439</td>\n",
              "            </tr>\n",
              "            <tr>\n",
              "                        <th id=\"T_37f0ef58_2c17_11eb_9591_0242ac1c0002level0_row6\" class=\"row_heading level0 row6\" >6</th>\n",
              "                        <td id=\"T_37f0ef58_2c17_11eb_9591_0242ac1c0002row6_col0\" class=\"data row6 col0\" >flour</td>\n",
              "                        <td id=\"T_37f0ef58_2c17_11eb_9591_0242ac1c0002row6_col1\" class=\"data row6 col1\" >margarine</td>\n",
              "                        <td id=\"T_37f0ef58_2c17_11eb_9591_0242ac1c0002row6_col2\" class=\"data row6 col2\" >0.003762</td>\n",
              "                        <td id=\"T_37f0ef58_2c17_11eb_9591_0242ac1c0002row6_col3\" class=\"data row6 col3\" >0.216374</td>\n",
              "                        <td id=\"T_37f0ef58_2c17_11eb_9591_0242ac1c0002row6_col4\" class=\"data row6 col4\" >3.700564</td>\n",
              "            </tr>\n",
              "            <tr>\n",
              "                        <th id=\"T_37f0ef58_2c17_11eb_9591_0242ac1c0002level0_row7\" class=\"row_heading level0 row7\" >7</th>\n",
              "                        <td id=\"T_37f0ef58_2c17_11eb_9591_0242ac1c0002row7_col0\" class=\"data row7 col0\" >flour</td>\n",
              "                        <td id=\"T_37f0ef58_2c17_11eb_9591_0242ac1c0002row7_col1\" class=\"data row7 col1\" >sugar</td>\n",
              "                        <td id=\"T_37f0ef58_2c17_11eb_9591_0242ac1c0002row7_col2\" class=\"data row7 col2\" >0.004983</td>\n",
              "                        <td id=\"T_37f0ef58_2c17_11eb_9591_0242ac1c0002row7_col3\" class=\"data row7 col3\" >0.286550</td>\n",
              "                        <td id=\"T_37f0ef58_2c17_11eb_9591_0242ac1c0002row7_col4\" class=\"data row7 col4\" >8.462252</td>\n",
              "            </tr>\n",
              "            <tr>\n",
              "                        <th id=\"T_37f0ef58_2c17_11eb_9591_0242ac1c0002level0_row8\" class=\"row_heading level0 row8\" >8</th>\n",
              "                        <td id=\"T_37f0ef58_2c17_11eb_9591_0242ac1c0002row8_col0\" class=\"data row8 col0\" >flour</td>\n",
              "                        <td id=\"T_37f0ef58_2c17_11eb_9591_0242ac1c0002row8_col1\" class=\"data row8 col1\" >whipped/sour cream</td>\n",
              "                        <td id=\"T_37f0ef58_2c17_11eb_9591_0242ac1c0002row8_col2\" class=\"data row8 col2\" >0.004068</td>\n",
              "                        <td id=\"T_37f0ef58_2c17_11eb_9591_0242ac1c0002row8_col3\" class=\"data row8 col3\" >0.233918</td>\n",
              "                        <td id=\"T_37f0ef58_2c17_11eb_9591_0242ac1c0002row8_col4\" class=\"data row8 col4\" >3.262909</td>\n",
              "            </tr>\n",
              "            <tr>\n",
              "                        <th id=\"T_37f0ef58_2c17_11eb_9591_0242ac1c0002level0_row9\" class=\"row_heading level0 row9\" >9</th>\n",
              "                        <td id=\"T_37f0ef58_2c17_11eb_9591_0242ac1c0002row9_col0\" class=\"data row9 col0\" >herbs</td>\n",
              "                        <td id=\"T_37f0ef58_2c17_11eb_9591_0242ac1c0002row9_col1\" class=\"data row9 col1\" >root vegetables</td>\n",
              "                        <td id=\"T_37f0ef58_2c17_11eb_9591_0242ac1c0002row9_col2\" class=\"data row9 col2\" >0.007016</td>\n",
              "                        <td id=\"T_37f0ef58_2c17_11eb_9591_0242ac1c0002row9_col3\" class=\"data row9 col3\" >0.431250</td>\n",
              "                        <td id=\"T_37f0ef58_2c17_11eb_9591_0242ac1c0002row9_col4\" class=\"data row9 col4\" >3.956075</td>\n",
              "            </tr>\n",
              "            <tr>\n",
              "                        <th id=\"T_37f0ef58_2c17_11eb_9591_0242ac1c0002level0_row10\" class=\"row_heading level0 row10\" >10</th>\n",
              "                        <td id=\"T_37f0ef58_2c17_11eb_9591_0242ac1c0002row10_col0\" class=\"data row10 col0\" >processed cheese</td>\n",
              "                        <td id=\"T_37f0ef58_2c17_11eb_9591_0242ac1c0002row10_col1\" class=\"data row10 col1\" >white bread</td>\n",
              "                        <td id=\"T_37f0ef58_2c17_11eb_9591_0242ac1c0002row10_col2\" class=\"data row10 col2\" >0.004169</td>\n",
              "                        <td id=\"T_37f0ef58_2c17_11eb_9591_0242ac1c0002row10_col3\" class=\"data row10 col3\" >0.251534</td>\n",
              "                        <td id=\"T_37f0ef58_2c17_11eb_9591_0242ac1c0002row10_col4\" class=\"data row10 col4\" >5.974838</td>\n",
              "            </tr>\n",
              "            <tr>\n",
              "                        <th id=\"T_37f0ef58_2c17_11eb_9591_0242ac1c0002level0_row11\" class=\"row_heading level0 row11\" >11</th>\n",
              "                        <td id=\"T_37f0ef58_2c17_11eb_9591_0242ac1c0002row11_col0\" class=\"data row11 col0\" >rice</td>\n",
              "                        <td id=\"T_37f0ef58_2c17_11eb_9591_0242ac1c0002row11_col1\" class=\"data row11 col1\" >root vegetables</td>\n",
              "                        <td id=\"T_37f0ef58_2c17_11eb_9591_0242ac1c0002row11_col2\" class=\"data row11 col2\" >0.003152</td>\n",
              "                        <td id=\"T_37f0ef58_2c17_11eb_9591_0242ac1c0002row11_col3\" class=\"data row11 col3\" >0.413333</td>\n",
              "                        <td id=\"T_37f0ef58_2c17_11eb_9591_0242ac1c0002row11_col4\" class=\"data row11 col4\" >3.791716</td>\n",
              "            </tr>\n",
              "            <tr>\n",
              "                        <th id=\"T_37f0ef58_2c17_11eb_9591_0242ac1c0002level0_row12\" class=\"row_heading level0 row12\" >12</th>\n",
              "                        <td id=\"T_37f0ef58_2c17_11eb_9591_0242ac1c0002row12_col0\" class=\"data row12 col0\" >sliced cheese</td>\n",
              "                        <td id=\"T_37f0ef58_2c17_11eb_9591_0242ac1c0002row12_col1\" class=\"data row12 col1\" >sausage</td>\n",
              "                        <td id=\"T_37f0ef58_2c17_11eb_9591_0242ac1c0002row12_col2\" class=\"data row12 col2\" >0.007016</td>\n",
              "                        <td id=\"T_37f0ef58_2c17_11eb_9591_0242ac1c0002row12_col3\" class=\"data row12 col3\" >0.286307</td>\n",
              "                        <td id=\"T_37f0ef58_2c17_11eb_9591_0242ac1c0002row12_col4\" class=\"data row12 col4\" >3.047125</td>\n",
              "            </tr>\n",
              "    </tbody></table>"
            ],
            "text/plain": [
              "<pandas.io.formats.style.Styler at 0x7f4d58c9c860>"
            ]
          },
          "metadata": {
            "tags": []
          },
          "execution_count": 51
        }
      ]
    },
    {
      "cell_type": "code",
      "metadata": {
        "colab": {
          "base_uri": "https://localhost:8080/",
          "height": 347
        },
        "id": "pZXZf6VmlZbv",
        "outputId": "244384e2-98e6-48fb-bec3-467410ab9975"
      },
      "source": [
        "DF\n",
        "DF.style.set_caption('Offers available for the items in a grocery store using Apriori (Associate Rule Learning)')"
      ],
      "execution_count": 52,
      "outputs": [
        {
          "output_type": "execute_result",
          "data": {
            "text/html": [
              "<style  type=\"text/css\" >\n",
              "</style><table id=\"T_39b51b84_2c17_11eb_9591_0242ac1c0002\" ><caption>Offers available for the items in a grocery store using Apriori (Associate Rule Learning)</caption><thead>    <tr>        <th class=\"blank level0\" ></th>        <th class=\"col_heading level0 col0\" >Item1</th>        <th class=\"col_heading level0 col1\" >Item2</th>        <th class=\"col_heading level0 col2\" >Support</th>        <th class=\"col_heading level0 col3\" >Confidence</th>        <th class=\"col_heading level0 col4\" >Lift</th>    </tr></thead><tbody>\n",
              "                <tr>\n",
              "                        <th id=\"T_39b51b84_2c17_11eb_9591_0242ac1c0002level0_row0\" class=\"row_heading level0 row0\" >0</th>\n",
              "                        <td id=\"T_39b51b84_2c17_11eb_9591_0242ac1c0002row0_col0\" class=\"data row0 col0\" >Instant food products</td>\n",
              "                        <td id=\"T_39b51b84_2c17_11eb_9591_0242ac1c0002row0_col1\" class=\"data row0 col1\" >hamburger meat</td>\n",
              "                        <td id=\"T_39b51b84_2c17_11eb_9591_0242ac1c0002row0_col2\" class=\"data row0 col2\" >0.003051</td>\n",
              "                        <td id=\"T_39b51b84_2c17_11eb_9591_0242ac1c0002row0_col3\" class=\"data row0 col3\" >0.379747</td>\n",
              "                        <td id=\"T_39b51b84_2c17_11eb_9591_0242ac1c0002row0_col4\" class=\"data row0 col4\" >11.420276</td>\n",
              "            </tr>\n",
              "            <tr>\n",
              "                        <th id=\"T_39b51b84_2c17_11eb_9591_0242ac1c0002level0_row1\" class=\"row_heading level0 row1\" >1</th>\n",
              "                        <td id=\"T_39b51b84_2c17_11eb_9591_0242ac1c0002row1_col0\" class=\"data row1 col0\" >baking powder</td>\n",
              "                        <td id=\"T_39b51b84_2c17_11eb_9591_0242ac1c0002row1_col1\" class=\"data row1 col1\" >whipped/sour cream</td>\n",
              "                        <td id=\"T_39b51b84_2c17_11eb_9591_0242ac1c0002row1_col2\" class=\"data row1 col2\" >0.004576</td>\n",
              "                        <td id=\"T_39b51b84_2c17_11eb_9591_0242ac1c0002row1_col3\" class=\"data row1 col3\" >0.258621</td>\n",
              "                        <td id=\"T_39b51b84_2c17_11eb_9591_0242ac1c0002row1_col4\" class=\"data row1 col4\" >3.607483</td>\n",
              "            </tr>\n",
              "            <tr>\n",
              "                        <th id=\"T_39b51b84_2c17_11eb_9591_0242ac1c0002level0_row2\" class=\"row_heading level0 row2\" >2</th>\n",
              "                        <td id=\"T_39b51b84_2c17_11eb_9591_0242ac1c0002row2_col0\" class=\"data row2 col0\" >beef</td>\n",
              "                        <td id=\"T_39b51b84_2c17_11eb_9591_0242ac1c0002row2_col1\" class=\"data row2 col1\" >root vegetables</td>\n",
              "                        <td id=\"T_39b51b84_2c17_11eb_9591_0242ac1c0002row2_col2\" class=\"data row2 col2\" >0.017389</td>\n",
              "                        <td id=\"T_39b51b84_2c17_11eb_9591_0242ac1c0002row2_col3\" class=\"data row2 col3\" >0.331395</td>\n",
              "                        <td id=\"T_39b51b84_2c17_11eb_9591_0242ac1c0002row2_col4\" class=\"data row2 col4\" >3.040058</td>\n",
              "            </tr>\n",
              "            <tr>\n",
              "                        <th id=\"T_39b51b84_2c17_11eb_9591_0242ac1c0002level0_row3\" class=\"row_heading level0 row3\" >3</th>\n",
              "                        <td id=\"T_39b51b84_2c17_11eb_9591_0242ac1c0002row3_col0\" class=\"data row3 col0\" >berries</td>\n",
              "                        <td id=\"T_39b51b84_2c17_11eb_9591_0242ac1c0002row3_col1\" class=\"data row3 col1\" >whipped/sour cream</td>\n",
              "                        <td id=\"T_39b51b84_2c17_11eb_9591_0242ac1c0002row3_col2\" class=\"data row3 col2\" >0.009050</td>\n",
              "                        <td id=\"T_39b51b84_2c17_11eb_9591_0242ac1c0002row3_col3\" class=\"data row3 col3\" >0.272171</td>\n",
              "                        <td id=\"T_39b51b84_2c17_11eb_9591_0242ac1c0002row3_col4\" class=\"data row3 col4\" >3.796499</td>\n",
              "            </tr>\n",
              "            <tr>\n",
              "                        <th id=\"T_39b51b84_2c17_11eb_9591_0242ac1c0002level0_row4\" class=\"row_heading level0 row4\" >4</th>\n",
              "                        <td id=\"T_39b51b84_2c17_11eb_9591_0242ac1c0002row4_col0\" class=\"data row4 col0\" >liquor</td>\n",
              "                        <td id=\"T_39b51b84_2c17_11eb_9591_0242ac1c0002row4_col1\" class=\"data row4 col1\" >bottled beer</td>\n",
              "                        <td id=\"T_39b51b84_2c17_11eb_9591_0242ac1c0002row4_col2\" class=\"data row4 col2\" >0.004678</td>\n",
              "                        <td id=\"T_39b51b84_2c17_11eb_9591_0242ac1c0002row4_col3\" class=\"data row4 col3\" >0.422018</td>\n",
              "                        <td id=\"T_39b51b84_2c17_11eb_9591_0242ac1c0002row4_col4\" class=\"data row4 col4\" >5.240061</td>\n",
              "            </tr>\n",
              "            <tr>\n",
              "                        <th id=\"T_39b51b84_2c17_11eb_9591_0242ac1c0002level0_row5\" class=\"row_heading level0 row5\" >5</th>\n",
              "                        <td id=\"T_39b51b84_2c17_11eb_9591_0242ac1c0002row5_col0\" class=\"data row5 col0\" >red/blush wine</td>\n",
              "                        <td id=\"T_39b51b84_2c17_11eb_9591_0242ac1c0002row5_col1\" class=\"data row5 col1\" >bottled beer</td>\n",
              "                        <td id=\"T_39b51b84_2c17_11eb_9591_0242ac1c0002row5_col2\" class=\"data row5 col2\" >0.004881</td>\n",
              "                        <td id=\"T_39b51b84_2c17_11eb_9591_0242ac1c0002row5_col3\" class=\"data row5 col3\" >0.253968</td>\n",
              "                        <td id=\"T_39b51b84_2c17_11eb_9591_0242ac1c0002row5_col4\" class=\"data row5 col4\" >3.153439</td>\n",
              "            </tr>\n",
              "            <tr>\n",
              "                        <th id=\"T_39b51b84_2c17_11eb_9591_0242ac1c0002level0_row6\" class=\"row_heading level0 row6\" >6</th>\n",
              "                        <td id=\"T_39b51b84_2c17_11eb_9591_0242ac1c0002row6_col0\" class=\"data row6 col0\" >flour</td>\n",
              "                        <td id=\"T_39b51b84_2c17_11eb_9591_0242ac1c0002row6_col1\" class=\"data row6 col1\" >margarine</td>\n",
              "                        <td id=\"T_39b51b84_2c17_11eb_9591_0242ac1c0002row6_col2\" class=\"data row6 col2\" >0.003762</td>\n",
              "                        <td id=\"T_39b51b84_2c17_11eb_9591_0242ac1c0002row6_col3\" class=\"data row6 col3\" >0.216374</td>\n",
              "                        <td id=\"T_39b51b84_2c17_11eb_9591_0242ac1c0002row6_col4\" class=\"data row6 col4\" >3.700564</td>\n",
              "            </tr>\n",
              "            <tr>\n",
              "                        <th id=\"T_39b51b84_2c17_11eb_9591_0242ac1c0002level0_row7\" class=\"row_heading level0 row7\" >7</th>\n",
              "                        <td id=\"T_39b51b84_2c17_11eb_9591_0242ac1c0002row7_col0\" class=\"data row7 col0\" >flour</td>\n",
              "                        <td id=\"T_39b51b84_2c17_11eb_9591_0242ac1c0002row7_col1\" class=\"data row7 col1\" >sugar</td>\n",
              "                        <td id=\"T_39b51b84_2c17_11eb_9591_0242ac1c0002row7_col2\" class=\"data row7 col2\" >0.004983</td>\n",
              "                        <td id=\"T_39b51b84_2c17_11eb_9591_0242ac1c0002row7_col3\" class=\"data row7 col3\" >0.286550</td>\n",
              "                        <td id=\"T_39b51b84_2c17_11eb_9591_0242ac1c0002row7_col4\" class=\"data row7 col4\" >8.462252</td>\n",
              "            </tr>\n",
              "            <tr>\n",
              "                        <th id=\"T_39b51b84_2c17_11eb_9591_0242ac1c0002level0_row8\" class=\"row_heading level0 row8\" >8</th>\n",
              "                        <td id=\"T_39b51b84_2c17_11eb_9591_0242ac1c0002row8_col0\" class=\"data row8 col0\" >flour</td>\n",
              "                        <td id=\"T_39b51b84_2c17_11eb_9591_0242ac1c0002row8_col1\" class=\"data row8 col1\" >whipped/sour cream</td>\n",
              "                        <td id=\"T_39b51b84_2c17_11eb_9591_0242ac1c0002row8_col2\" class=\"data row8 col2\" >0.004068</td>\n",
              "                        <td id=\"T_39b51b84_2c17_11eb_9591_0242ac1c0002row8_col3\" class=\"data row8 col3\" >0.233918</td>\n",
              "                        <td id=\"T_39b51b84_2c17_11eb_9591_0242ac1c0002row8_col4\" class=\"data row8 col4\" >3.262909</td>\n",
              "            </tr>\n",
              "            <tr>\n",
              "                        <th id=\"T_39b51b84_2c17_11eb_9591_0242ac1c0002level0_row9\" class=\"row_heading level0 row9\" >9</th>\n",
              "                        <td id=\"T_39b51b84_2c17_11eb_9591_0242ac1c0002row9_col0\" class=\"data row9 col0\" >herbs</td>\n",
              "                        <td id=\"T_39b51b84_2c17_11eb_9591_0242ac1c0002row9_col1\" class=\"data row9 col1\" >root vegetables</td>\n",
              "                        <td id=\"T_39b51b84_2c17_11eb_9591_0242ac1c0002row9_col2\" class=\"data row9 col2\" >0.007016</td>\n",
              "                        <td id=\"T_39b51b84_2c17_11eb_9591_0242ac1c0002row9_col3\" class=\"data row9 col3\" >0.431250</td>\n",
              "                        <td id=\"T_39b51b84_2c17_11eb_9591_0242ac1c0002row9_col4\" class=\"data row9 col4\" >3.956075</td>\n",
              "            </tr>\n",
              "            <tr>\n",
              "                        <th id=\"T_39b51b84_2c17_11eb_9591_0242ac1c0002level0_row10\" class=\"row_heading level0 row10\" >10</th>\n",
              "                        <td id=\"T_39b51b84_2c17_11eb_9591_0242ac1c0002row10_col0\" class=\"data row10 col0\" >processed cheese</td>\n",
              "                        <td id=\"T_39b51b84_2c17_11eb_9591_0242ac1c0002row10_col1\" class=\"data row10 col1\" >white bread</td>\n",
              "                        <td id=\"T_39b51b84_2c17_11eb_9591_0242ac1c0002row10_col2\" class=\"data row10 col2\" >0.004169</td>\n",
              "                        <td id=\"T_39b51b84_2c17_11eb_9591_0242ac1c0002row10_col3\" class=\"data row10 col3\" >0.251534</td>\n",
              "                        <td id=\"T_39b51b84_2c17_11eb_9591_0242ac1c0002row10_col4\" class=\"data row10 col4\" >5.974838</td>\n",
              "            </tr>\n",
              "            <tr>\n",
              "                        <th id=\"T_39b51b84_2c17_11eb_9591_0242ac1c0002level0_row11\" class=\"row_heading level0 row11\" >11</th>\n",
              "                        <td id=\"T_39b51b84_2c17_11eb_9591_0242ac1c0002row11_col0\" class=\"data row11 col0\" >rice</td>\n",
              "                        <td id=\"T_39b51b84_2c17_11eb_9591_0242ac1c0002row11_col1\" class=\"data row11 col1\" >root vegetables</td>\n",
              "                        <td id=\"T_39b51b84_2c17_11eb_9591_0242ac1c0002row11_col2\" class=\"data row11 col2\" >0.003152</td>\n",
              "                        <td id=\"T_39b51b84_2c17_11eb_9591_0242ac1c0002row11_col3\" class=\"data row11 col3\" >0.413333</td>\n",
              "                        <td id=\"T_39b51b84_2c17_11eb_9591_0242ac1c0002row11_col4\" class=\"data row11 col4\" >3.791716</td>\n",
              "            </tr>\n",
              "            <tr>\n",
              "                        <th id=\"T_39b51b84_2c17_11eb_9591_0242ac1c0002level0_row12\" class=\"row_heading level0 row12\" >12</th>\n",
              "                        <td id=\"T_39b51b84_2c17_11eb_9591_0242ac1c0002row12_col0\" class=\"data row12 col0\" >sliced cheese</td>\n",
              "                        <td id=\"T_39b51b84_2c17_11eb_9591_0242ac1c0002row12_col1\" class=\"data row12 col1\" >sausage</td>\n",
              "                        <td id=\"T_39b51b84_2c17_11eb_9591_0242ac1c0002row12_col2\" class=\"data row12 col2\" >0.007016</td>\n",
              "                        <td id=\"T_39b51b84_2c17_11eb_9591_0242ac1c0002row12_col3\" class=\"data row12 col3\" >0.286307</td>\n",
              "                        <td id=\"T_39b51b84_2c17_11eb_9591_0242ac1c0002row12_col4\" class=\"data row12 col4\" >3.047125</td>\n",
              "            </tr>\n",
              "    </tbody></table>"
            ],
            "text/plain": [
              "<pandas.io.formats.style.Styler at 0x7f4d5be61978>"
            ]
          },
          "metadata": {
            "tags": []
          },
          "execution_count": 52
        }
      ]
    },
    {
      "cell_type": "code",
      "metadata": {
        "colab": {
          "base_uri": "https://localhost:8080/",
          "height": 347
        },
        "id": "RcdpyjIDleC7",
        "outputId": "15baa9e5-c6f5-4f48-e497-7ef4306af769"
      },
      "source": [
        "DF.nlargest( n=9835,columns = 'Lift')\n",
        "DF.style.set_caption('Offers available for the items in a grocery store using Apriori (Associate Rule Learning)')"
      ],
      "execution_count": 53,
      "outputs": [
        {
          "output_type": "execute_result",
          "data": {
            "text/html": [
              "<style  type=\"text/css\" >\n",
              "</style><table id=\"T_3b27c1f6_2c17_11eb_9591_0242ac1c0002\" ><caption>Offers available for the items in a grocery store using Apriori (Associate Rule Learning)</caption><thead>    <tr>        <th class=\"blank level0\" ></th>        <th class=\"col_heading level0 col0\" >Item1</th>        <th class=\"col_heading level0 col1\" >Item2</th>        <th class=\"col_heading level0 col2\" >Support</th>        <th class=\"col_heading level0 col3\" >Confidence</th>        <th class=\"col_heading level0 col4\" >Lift</th>    </tr></thead><tbody>\n",
              "                <tr>\n",
              "                        <th id=\"T_3b27c1f6_2c17_11eb_9591_0242ac1c0002level0_row0\" class=\"row_heading level0 row0\" >0</th>\n",
              "                        <td id=\"T_3b27c1f6_2c17_11eb_9591_0242ac1c0002row0_col0\" class=\"data row0 col0\" >Instant food products</td>\n",
              "                        <td id=\"T_3b27c1f6_2c17_11eb_9591_0242ac1c0002row0_col1\" class=\"data row0 col1\" >hamburger meat</td>\n",
              "                        <td id=\"T_3b27c1f6_2c17_11eb_9591_0242ac1c0002row0_col2\" class=\"data row0 col2\" >0.003051</td>\n",
              "                        <td id=\"T_3b27c1f6_2c17_11eb_9591_0242ac1c0002row0_col3\" class=\"data row0 col3\" >0.379747</td>\n",
              "                        <td id=\"T_3b27c1f6_2c17_11eb_9591_0242ac1c0002row0_col4\" class=\"data row0 col4\" >11.420276</td>\n",
              "            </tr>\n",
              "            <tr>\n",
              "                        <th id=\"T_3b27c1f6_2c17_11eb_9591_0242ac1c0002level0_row1\" class=\"row_heading level0 row1\" >1</th>\n",
              "                        <td id=\"T_3b27c1f6_2c17_11eb_9591_0242ac1c0002row1_col0\" class=\"data row1 col0\" >baking powder</td>\n",
              "                        <td id=\"T_3b27c1f6_2c17_11eb_9591_0242ac1c0002row1_col1\" class=\"data row1 col1\" >whipped/sour cream</td>\n",
              "                        <td id=\"T_3b27c1f6_2c17_11eb_9591_0242ac1c0002row1_col2\" class=\"data row1 col2\" >0.004576</td>\n",
              "                        <td id=\"T_3b27c1f6_2c17_11eb_9591_0242ac1c0002row1_col3\" class=\"data row1 col3\" >0.258621</td>\n",
              "                        <td id=\"T_3b27c1f6_2c17_11eb_9591_0242ac1c0002row1_col4\" class=\"data row1 col4\" >3.607483</td>\n",
              "            </tr>\n",
              "            <tr>\n",
              "                        <th id=\"T_3b27c1f6_2c17_11eb_9591_0242ac1c0002level0_row2\" class=\"row_heading level0 row2\" >2</th>\n",
              "                        <td id=\"T_3b27c1f6_2c17_11eb_9591_0242ac1c0002row2_col0\" class=\"data row2 col0\" >beef</td>\n",
              "                        <td id=\"T_3b27c1f6_2c17_11eb_9591_0242ac1c0002row2_col1\" class=\"data row2 col1\" >root vegetables</td>\n",
              "                        <td id=\"T_3b27c1f6_2c17_11eb_9591_0242ac1c0002row2_col2\" class=\"data row2 col2\" >0.017389</td>\n",
              "                        <td id=\"T_3b27c1f6_2c17_11eb_9591_0242ac1c0002row2_col3\" class=\"data row2 col3\" >0.331395</td>\n",
              "                        <td id=\"T_3b27c1f6_2c17_11eb_9591_0242ac1c0002row2_col4\" class=\"data row2 col4\" >3.040058</td>\n",
              "            </tr>\n",
              "            <tr>\n",
              "                        <th id=\"T_3b27c1f6_2c17_11eb_9591_0242ac1c0002level0_row3\" class=\"row_heading level0 row3\" >3</th>\n",
              "                        <td id=\"T_3b27c1f6_2c17_11eb_9591_0242ac1c0002row3_col0\" class=\"data row3 col0\" >berries</td>\n",
              "                        <td id=\"T_3b27c1f6_2c17_11eb_9591_0242ac1c0002row3_col1\" class=\"data row3 col1\" >whipped/sour cream</td>\n",
              "                        <td id=\"T_3b27c1f6_2c17_11eb_9591_0242ac1c0002row3_col2\" class=\"data row3 col2\" >0.009050</td>\n",
              "                        <td id=\"T_3b27c1f6_2c17_11eb_9591_0242ac1c0002row3_col3\" class=\"data row3 col3\" >0.272171</td>\n",
              "                        <td id=\"T_3b27c1f6_2c17_11eb_9591_0242ac1c0002row3_col4\" class=\"data row3 col4\" >3.796499</td>\n",
              "            </tr>\n",
              "            <tr>\n",
              "                        <th id=\"T_3b27c1f6_2c17_11eb_9591_0242ac1c0002level0_row4\" class=\"row_heading level0 row4\" >4</th>\n",
              "                        <td id=\"T_3b27c1f6_2c17_11eb_9591_0242ac1c0002row4_col0\" class=\"data row4 col0\" >liquor</td>\n",
              "                        <td id=\"T_3b27c1f6_2c17_11eb_9591_0242ac1c0002row4_col1\" class=\"data row4 col1\" >bottled beer</td>\n",
              "                        <td id=\"T_3b27c1f6_2c17_11eb_9591_0242ac1c0002row4_col2\" class=\"data row4 col2\" >0.004678</td>\n",
              "                        <td id=\"T_3b27c1f6_2c17_11eb_9591_0242ac1c0002row4_col3\" class=\"data row4 col3\" >0.422018</td>\n",
              "                        <td id=\"T_3b27c1f6_2c17_11eb_9591_0242ac1c0002row4_col4\" class=\"data row4 col4\" >5.240061</td>\n",
              "            </tr>\n",
              "            <tr>\n",
              "                        <th id=\"T_3b27c1f6_2c17_11eb_9591_0242ac1c0002level0_row5\" class=\"row_heading level0 row5\" >5</th>\n",
              "                        <td id=\"T_3b27c1f6_2c17_11eb_9591_0242ac1c0002row5_col0\" class=\"data row5 col0\" >red/blush wine</td>\n",
              "                        <td id=\"T_3b27c1f6_2c17_11eb_9591_0242ac1c0002row5_col1\" class=\"data row5 col1\" >bottled beer</td>\n",
              "                        <td id=\"T_3b27c1f6_2c17_11eb_9591_0242ac1c0002row5_col2\" class=\"data row5 col2\" >0.004881</td>\n",
              "                        <td id=\"T_3b27c1f6_2c17_11eb_9591_0242ac1c0002row5_col3\" class=\"data row5 col3\" >0.253968</td>\n",
              "                        <td id=\"T_3b27c1f6_2c17_11eb_9591_0242ac1c0002row5_col4\" class=\"data row5 col4\" >3.153439</td>\n",
              "            </tr>\n",
              "            <tr>\n",
              "                        <th id=\"T_3b27c1f6_2c17_11eb_9591_0242ac1c0002level0_row6\" class=\"row_heading level0 row6\" >6</th>\n",
              "                        <td id=\"T_3b27c1f6_2c17_11eb_9591_0242ac1c0002row6_col0\" class=\"data row6 col0\" >flour</td>\n",
              "                        <td id=\"T_3b27c1f6_2c17_11eb_9591_0242ac1c0002row6_col1\" class=\"data row6 col1\" >margarine</td>\n",
              "                        <td id=\"T_3b27c1f6_2c17_11eb_9591_0242ac1c0002row6_col2\" class=\"data row6 col2\" >0.003762</td>\n",
              "                        <td id=\"T_3b27c1f6_2c17_11eb_9591_0242ac1c0002row6_col3\" class=\"data row6 col3\" >0.216374</td>\n",
              "                        <td id=\"T_3b27c1f6_2c17_11eb_9591_0242ac1c0002row6_col4\" class=\"data row6 col4\" >3.700564</td>\n",
              "            </tr>\n",
              "            <tr>\n",
              "                        <th id=\"T_3b27c1f6_2c17_11eb_9591_0242ac1c0002level0_row7\" class=\"row_heading level0 row7\" >7</th>\n",
              "                        <td id=\"T_3b27c1f6_2c17_11eb_9591_0242ac1c0002row7_col0\" class=\"data row7 col0\" >flour</td>\n",
              "                        <td id=\"T_3b27c1f6_2c17_11eb_9591_0242ac1c0002row7_col1\" class=\"data row7 col1\" >sugar</td>\n",
              "                        <td id=\"T_3b27c1f6_2c17_11eb_9591_0242ac1c0002row7_col2\" class=\"data row7 col2\" >0.004983</td>\n",
              "                        <td id=\"T_3b27c1f6_2c17_11eb_9591_0242ac1c0002row7_col3\" class=\"data row7 col3\" >0.286550</td>\n",
              "                        <td id=\"T_3b27c1f6_2c17_11eb_9591_0242ac1c0002row7_col4\" class=\"data row7 col4\" >8.462252</td>\n",
              "            </tr>\n",
              "            <tr>\n",
              "                        <th id=\"T_3b27c1f6_2c17_11eb_9591_0242ac1c0002level0_row8\" class=\"row_heading level0 row8\" >8</th>\n",
              "                        <td id=\"T_3b27c1f6_2c17_11eb_9591_0242ac1c0002row8_col0\" class=\"data row8 col0\" >flour</td>\n",
              "                        <td id=\"T_3b27c1f6_2c17_11eb_9591_0242ac1c0002row8_col1\" class=\"data row8 col1\" >whipped/sour cream</td>\n",
              "                        <td id=\"T_3b27c1f6_2c17_11eb_9591_0242ac1c0002row8_col2\" class=\"data row8 col2\" >0.004068</td>\n",
              "                        <td id=\"T_3b27c1f6_2c17_11eb_9591_0242ac1c0002row8_col3\" class=\"data row8 col3\" >0.233918</td>\n",
              "                        <td id=\"T_3b27c1f6_2c17_11eb_9591_0242ac1c0002row8_col4\" class=\"data row8 col4\" >3.262909</td>\n",
              "            </tr>\n",
              "            <tr>\n",
              "                        <th id=\"T_3b27c1f6_2c17_11eb_9591_0242ac1c0002level0_row9\" class=\"row_heading level0 row9\" >9</th>\n",
              "                        <td id=\"T_3b27c1f6_2c17_11eb_9591_0242ac1c0002row9_col0\" class=\"data row9 col0\" >herbs</td>\n",
              "                        <td id=\"T_3b27c1f6_2c17_11eb_9591_0242ac1c0002row9_col1\" class=\"data row9 col1\" >root vegetables</td>\n",
              "                        <td id=\"T_3b27c1f6_2c17_11eb_9591_0242ac1c0002row9_col2\" class=\"data row9 col2\" >0.007016</td>\n",
              "                        <td id=\"T_3b27c1f6_2c17_11eb_9591_0242ac1c0002row9_col3\" class=\"data row9 col3\" >0.431250</td>\n",
              "                        <td id=\"T_3b27c1f6_2c17_11eb_9591_0242ac1c0002row9_col4\" class=\"data row9 col4\" >3.956075</td>\n",
              "            </tr>\n",
              "            <tr>\n",
              "                        <th id=\"T_3b27c1f6_2c17_11eb_9591_0242ac1c0002level0_row10\" class=\"row_heading level0 row10\" >10</th>\n",
              "                        <td id=\"T_3b27c1f6_2c17_11eb_9591_0242ac1c0002row10_col0\" class=\"data row10 col0\" >processed cheese</td>\n",
              "                        <td id=\"T_3b27c1f6_2c17_11eb_9591_0242ac1c0002row10_col1\" class=\"data row10 col1\" >white bread</td>\n",
              "                        <td id=\"T_3b27c1f6_2c17_11eb_9591_0242ac1c0002row10_col2\" class=\"data row10 col2\" >0.004169</td>\n",
              "                        <td id=\"T_3b27c1f6_2c17_11eb_9591_0242ac1c0002row10_col3\" class=\"data row10 col3\" >0.251534</td>\n",
              "                        <td id=\"T_3b27c1f6_2c17_11eb_9591_0242ac1c0002row10_col4\" class=\"data row10 col4\" >5.974838</td>\n",
              "            </tr>\n",
              "            <tr>\n",
              "                        <th id=\"T_3b27c1f6_2c17_11eb_9591_0242ac1c0002level0_row11\" class=\"row_heading level0 row11\" >11</th>\n",
              "                        <td id=\"T_3b27c1f6_2c17_11eb_9591_0242ac1c0002row11_col0\" class=\"data row11 col0\" >rice</td>\n",
              "                        <td id=\"T_3b27c1f6_2c17_11eb_9591_0242ac1c0002row11_col1\" class=\"data row11 col1\" >root vegetables</td>\n",
              "                        <td id=\"T_3b27c1f6_2c17_11eb_9591_0242ac1c0002row11_col2\" class=\"data row11 col2\" >0.003152</td>\n",
              "                        <td id=\"T_3b27c1f6_2c17_11eb_9591_0242ac1c0002row11_col3\" class=\"data row11 col3\" >0.413333</td>\n",
              "                        <td id=\"T_3b27c1f6_2c17_11eb_9591_0242ac1c0002row11_col4\" class=\"data row11 col4\" >3.791716</td>\n",
              "            </tr>\n",
              "            <tr>\n",
              "                        <th id=\"T_3b27c1f6_2c17_11eb_9591_0242ac1c0002level0_row12\" class=\"row_heading level0 row12\" >12</th>\n",
              "                        <td id=\"T_3b27c1f6_2c17_11eb_9591_0242ac1c0002row12_col0\" class=\"data row12 col0\" >sliced cheese</td>\n",
              "                        <td id=\"T_3b27c1f6_2c17_11eb_9591_0242ac1c0002row12_col1\" class=\"data row12 col1\" >sausage</td>\n",
              "                        <td id=\"T_3b27c1f6_2c17_11eb_9591_0242ac1c0002row12_col2\" class=\"data row12 col2\" >0.007016</td>\n",
              "                        <td id=\"T_3b27c1f6_2c17_11eb_9591_0242ac1c0002row12_col3\" class=\"data row12 col3\" >0.286307</td>\n",
              "                        <td id=\"T_3b27c1f6_2c17_11eb_9591_0242ac1c0002row12_col4\" class=\"data row12 col4\" >3.047125</td>\n",
              "            </tr>\n",
              "    </tbody></table>"
            ],
            "text/plain": [
              "<pandas.io.formats.style.Styler at 0x7f4d58c61550>"
            ]
          },
          "metadata": {
            "tags": []
          },
          "execution_count": 53
        }
      ]
    }
  ]
}